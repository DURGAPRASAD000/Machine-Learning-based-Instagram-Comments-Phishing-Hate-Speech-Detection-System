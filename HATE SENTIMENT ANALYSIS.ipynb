{
 "cells": [
  {
   "cell_type": "code",
   "execution_count": 1,
   "id": "2b628b15-82c3-4509-b56d-99abeb39c75a",
   "metadata": {},
   "outputs": [],
   "source": [
    "import pandas as pd\n"
   ]
  },
  {
   "cell_type": "code",
   "execution_count": 2,
   "id": "76f43922-8aa7-4242-a5d7-34e0f2c31577",
   "metadata": {},
   "outputs": [],
   "source": [
    "df = pd.read_csv(\"C:/Users/durga/Desktop/SPU/DS 600/PROJECT/FINAL/cleaned_data.csv\")"
   ]
  },
  {
   "cell_type": "code",
   "execution_count": 3,
   "id": "1bcea512-9ad5-4fd0-bb1c-14866dd15f29",
   "metadata": {},
   "outputs": [],
   "source": [
    "hate = pd.read_csv(\"C:/Users/durga/Desktop/SPU/DS 600/PROJECT/FINAL/DATA FILES/HATE.csv\",encoding='latin1')"
   ]
  },
  {
   "cell_type": "code",
   "execution_count": 4,
   "id": "10b804a4-062e-4d05-bb5d-016efe958ccc",
   "metadata": {
    "scrolled": true
   },
   "outputs": [
    {
     "data": {
      "text/html": [
       "<div>\n",
       "<style scoped>\n",
       "    .dataframe tbody tr th:only-of-type {\n",
       "        vertical-align: middle;\n",
       "    }\n",
       "\n",
       "    .dataframe tbody tr th {\n",
       "        vertical-align: top;\n",
       "    }\n",
       "\n",
       "    .dataframe thead th {\n",
       "        text-align: right;\n",
       "    }\n",
       "</style>\n",
       "<table border=\"1\" class=\"dataframe\">\n",
       "  <thead>\n",
       "    <tr style=\"text-align: right;\">\n",
       "      <th></th>\n",
       "      <th>word</th>\n",
       "      <th>sentiment</th>\n",
       "    </tr>\n",
       "  </thead>\n",
       "  <tbody>\n",
       "    <tr>\n",
       "      <th>0</th>\n",
       "      <td>a55,</td>\n",
       "      <td>negative</td>\n",
       "    </tr>\n",
       "    <tr>\n",
       "      <th>1</th>\n",
       "      <td>a55hole,</td>\n",
       "      <td>negative</td>\n",
       "    </tr>\n",
       "    <tr>\n",
       "      <th>2</th>\n",
       "      <td>aeolus,</td>\n",
       "      <td>negative</td>\n",
       "    </tr>\n",
       "    <tr>\n",
       "      <th>3</th>\n",
       "      <td>ahole,</td>\n",
       "      <td>negative</td>\n",
       "    </tr>\n",
       "    <tr>\n",
       "      <th>4</th>\n",
       "      <td>anal,</td>\n",
       "      <td>negative</td>\n",
       "    </tr>\n",
       "    <tr>\n",
       "      <th>...</th>\n",
       "      <td>...</td>\n",
       "      <td>...</td>\n",
       "    </tr>\n",
       "    <tr>\n",
       "      <th>770</th>\n",
       "      <td>NFG</td>\n",
       "      <td>negative</td>\n",
       "    </tr>\n",
       "    <tr>\n",
       "      <th>771</th>\n",
       "      <td>FYVM</td>\n",
       "      <td>negative</td>\n",
       "    </tr>\n",
       "    <tr>\n",
       "      <th>772</th>\n",
       "      <td>ASAFP</td>\n",
       "      <td>negative</td>\n",
       "    </tr>\n",
       "    <tr>\n",
       "      <th>773</th>\n",
       "      <td>mofo</td>\n",
       "      <td>negative</td>\n",
       "    </tr>\n",
       "    <tr>\n",
       "      <th>774</th>\n",
       "      <td>fuxache</td>\n",
       "      <td>negative</td>\n",
       "    </tr>\n",
       "  </tbody>\n",
       "</table>\n",
       "<p>775 rows × 2 columns</p>\n",
       "</div>"
      ],
      "text/plain": [
       "         word sentiment\n",
       "0        a55,  negative\n",
       "1    a55hole,  negative\n",
       "2     aeolus,  negative\n",
       "3      ahole,  negative\n",
       "4       anal,  negative\n",
       "..        ...       ...\n",
       "770       NFG  negative\n",
       "771      FYVM  negative\n",
       "772     ASAFP  negative\n",
       "773      mofo  negative\n",
       "774   fuxache  negative\n",
       "\n",
       "[775 rows x 2 columns]"
      ]
     },
     "execution_count": 4,
     "metadata": {},
     "output_type": "execute_result"
    }
   ],
   "source": [
    "hate\n"
   ]
  },
  {
   "cell_type": "code",
   "execution_count": 5,
   "id": "6f698ec5-b596-42d8-8b8a-299c85d07e73",
   "metadata": {},
   "outputs": [
    {
     "data": {
      "text/html": [
       "<div>\n",
       "<style scoped>\n",
       "    .dataframe tbody tr th:only-of-type {\n",
       "        vertical-align: middle;\n",
       "    }\n",
       "\n",
       "    .dataframe tbody tr th {\n",
       "        vertical-align: top;\n",
       "    }\n",
       "\n",
       "    .dataframe thead th {\n",
       "        text-align: right;\n",
       "    }\n",
       "</style>\n",
       "<table border=\"1\" class=\"dataframe\">\n",
       "  <thead>\n",
       "    <tr style=\"text-align: right;\">\n",
       "      <th></th>\n",
       "      <th>Name</th>\n",
       "      <th>Profile ID</th>\n",
       "      <th>Date</th>\n",
       "      <th>Comment</th>\n",
       "      <th>Comment_Length</th>\n",
       "    </tr>\n",
       "  </thead>\n",
       "  <tbody>\n",
       "    <tr>\n",
       "      <th>0</th>\n",
       "      <td>scotty2jatty</td>\n",
       "      <td>3.982741e+08</td>\n",
       "      <td>22/04/24 05:27:52</td>\n",
       "      <td>better jakepaul dirty</td>\n",
       "      <td>34.0</td>\n",
       "    </tr>\n",
       "    <tr>\n",
       "      <th>1</th>\n",
       "      <td>angelasanders975</td>\n",
       "      <td>6.596329e+10</td>\n",
       "      <td>22/04/24 17:43:49</td>\n",
       "      <td>thats soooooooooo right</td>\n",
       "      <td>24.0</td>\n",
       "    </tr>\n",
       "    <tr>\n",
       "      <th>2</th>\n",
       "      <td>myleslewis_24</td>\n",
       "      <td>1.168729e+10</td>\n",
       "      <td>22/04/24 17:49:54</td>\n",
       "      <td>bro want shirt</td>\n",
       "      <td>21.0</td>\n",
       "    </tr>\n",
       "    <tr>\n",
       "      <th>3</th>\n",
       "      <td>matthew_williams224</td>\n",
       "      <td>2.524021e+10</td>\n",
       "      <td>22/04/24 18:53:42</td>\n",
       "      <td>michaelgalt bro needs beat jakes ass</td>\n",
       "      <td>60.0</td>\n",
       "    </tr>\n",
       "    <tr>\n",
       "      <th>4</th>\n",
       "      <td>vremyatherapper</td>\n",
       "      <td>3.178600e+09</td>\n",
       "      <td>22/04/24 19:21:58</td>\n",
       "      <td>mike tko</td>\n",
       "      <td>28.0</td>\n",
       "    </tr>\n",
       "  </tbody>\n",
       "</table>\n",
       "</div>"
      ],
      "text/plain": [
       "                  Name    Profile ID               Date  \\\n",
       "0         scotty2jatty  3.982741e+08  22/04/24 05:27:52   \n",
       "1     angelasanders975  6.596329e+10  22/04/24 17:43:49   \n",
       "2        myleslewis_24  1.168729e+10  22/04/24 17:49:54   \n",
       "3  matthew_williams224  2.524021e+10  22/04/24 18:53:42   \n",
       "4      vremyatherapper  3.178600e+09  22/04/24 19:21:58   \n",
       "\n",
       "                                Comment  Comment_Length  \n",
       "0                 better jakepaul dirty            34.0  \n",
       "1               thats soooooooooo right            24.0  \n",
       "2                        bro want shirt            21.0  \n",
       "3  michaelgalt bro needs beat jakes ass            60.0  \n",
       "4                              mike tko            28.0  "
      ]
     },
     "execution_count": 5,
     "metadata": {},
     "output_type": "execute_result"
    }
   ],
   "source": [
    "df.head()"
   ]
  },
  {
   "cell_type": "code",
   "execution_count": 9,
   "id": "c8a3555d-a6a6-40d5-98b5-7747ea45a6a9",
   "metadata": {},
   "outputs": [],
   "source": [
    "def label_sentiment(comment):\n",
    "    # Iterate over rows in the hate dataset\n",
    "    for index, row in hate.iterrows():\n",
    "        # Check if any word from the 'words' column is present in the comment\n",
    "        if row['word'] in comment:\n",
    "            # Return the sentiment\n",
    "            return row['sentiment']\n",
    "    # Return neutral if no match is found\n",
    "    return 'neutral'\n",
    "\n",
    "# Apply the function to label sentiments in the df dataset\n",
    "df['sentiments'] = df['Comment'].apply(label_sentiment)"
   ]
  },
  {
   "cell_type": "code",
   "execution_count": 7,
   "id": "07656b32-1b7a-4a8d-9aa0-08ce705a4bde",
   "metadata": {},
   "outputs": [
    {
     "data": {
      "text/html": [
       "<div>\n",
       "<style scoped>\n",
       "    .dataframe tbody tr th:only-of-type {\n",
       "        vertical-align: middle;\n",
       "    }\n",
       "\n",
       "    .dataframe tbody tr th {\n",
       "        vertical-align: top;\n",
       "    }\n",
       "\n",
       "    .dataframe thead th {\n",
       "        text-align: right;\n",
       "    }\n",
       "</style>\n",
       "<table border=\"1\" class=\"dataframe\">\n",
       "  <thead>\n",
       "    <tr style=\"text-align: right;\">\n",
       "      <th></th>\n",
       "      <th>Name</th>\n",
       "      <th>Profile ID</th>\n",
       "      <th>Date</th>\n",
       "      <th>Comment</th>\n",
       "      <th>Comment_Length</th>\n",
       "      <th>sentiments</th>\n",
       "    </tr>\n",
       "  </thead>\n",
       "  <tbody>\n",
       "    <tr>\n",
       "      <th>0</th>\n",
       "      <td>scotty2jatty</td>\n",
       "      <td>3.982741e+08</td>\n",
       "      <td>22/04/24 05:27:52</td>\n",
       "      <td>better jakepaul dirty</td>\n",
       "      <td>34.0</td>\n",
       "      <td>negative</td>\n",
       "    </tr>\n",
       "    <tr>\n",
       "      <th>1</th>\n",
       "      <td>angelasanders975</td>\n",
       "      <td>6.596329e+10</td>\n",
       "      <td>22/04/24 17:43:49</td>\n",
       "      <td>thats soooooooooo right</td>\n",
       "      <td>24.0</td>\n",
       "      <td>neutral</td>\n",
       "    </tr>\n",
       "    <tr>\n",
       "      <th>2</th>\n",
       "      <td>myleslewis_24</td>\n",
       "      <td>1.168729e+10</td>\n",
       "      <td>22/04/24 17:49:54</td>\n",
       "      <td>bro want shirt</td>\n",
       "      <td>21.0</td>\n",
       "      <td>neutral</td>\n",
       "    </tr>\n",
       "    <tr>\n",
       "      <th>3</th>\n",
       "      <td>matthew_williams224</td>\n",
       "      <td>2.524021e+10</td>\n",
       "      <td>22/04/24 18:53:42</td>\n",
       "      <td>michaelgalt bro needs beat jakes ass</td>\n",
       "      <td>60.0</td>\n",
       "      <td>negative</td>\n",
       "    </tr>\n",
       "    <tr>\n",
       "      <th>4</th>\n",
       "      <td>vremyatherapper</td>\n",
       "      <td>3.178600e+09</td>\n",
       "      <td>22/04/24 19:21:58</td>\n",
       "      <td>mike tko</td>\n",
       "      <td>28.0</td>\n",
       "      <td>neutral</td>\n",
       "    </tr>\n",
       "  </tbody>\n",
       "</table>\n",
       "</div>"
      ],
      "text/plain": [
       "                  Name    Profile ID               Date  \\\n",
       "0         scotty2jatty  3.982741e+08  22/04/24 05:27:52   \n",
       "1     angelasanders975  6.596329e+10  22/04/24 17:43:49   \n",
       "2        myleslewis_24  1.168729e+10  22/04/24 17:49:54   \n",
       "3  matthew_williams224  2.524021e+10  22/04/24 18:53:42   \n",
       "4      vremyatherapper  3.178600e+09  22/04/24 19:21:58   \n",
       "\n",
       "                                Comment  Comment_Length sentiments  \n",
       "0                 better jakepaul dirty            34.0   negative  \n",
       "1               thats soooooooooo right            24.0    neutral  \n",
       "2                        bro want shirt            21.0    neutral  \n",
       "3  michaelgalt bro needs beat jakes ass            60.0   negative  \n",
       "4                              mike tko            28.0    neutral  "
      ]
     },
     "execution_count": 7,
     "metadata": {},
     "output_type": "execute_result"
    }
   ],
   "source": [
    "df.head()"
   ]
  },
  {
   "cell_type": "markdown",
   "id": "05d34b88-aaba-41a8-a61e-91eb24a016d8",
   "metadata": {},
   "source": [
    "MODEL IMPLEMENTATION - LOGISTIC REGRESSION"
   ]
  },
  {
   "cell_type": "code",
   "execution_count": 8,
   "id": "ad231bc1-807a-4203-a319-0c9ff2cd08e1",
   "metadata": {},
   "outputs": [],
   "source": [
    "from sklearn.feature_extraction.text import HashingVectorizer\n",
    "from sklearn.model_selection import train_test_split\n",
    "from sklearn.linear_model import LogisticRegression\n",
    "from sklearn.metrics import classification_report\n",
    "import pandas as pd\n",
    "\n",
    "# Assuming df is your DataFrame containing the data\n",
    "comments = df['Comment']\n",
    "sentiments = df['sentiments']\n",
    "\n",
    "# Feature Hashing\n",
    "vectorizer = HashingVectorizer(n_features=1000)  # Adjust n_features as needed\n",
    "X = vectorizer.fit_transform(comments)"
   ]
  },
  {
   "cell_type": "markdown",
   "id": "bee3c1a3-f89b-4317-8dae-74955983a36b",
   "metadata": {},
   "source": [
    "SPLTIING DATA INTO TEST AND TRAINING DATA"
   ]
  },
  {
   "cell_type": "code",
   "execution_count": 10,
   "id": "65d65477-27ee-402d-8865-f3cbc30bc961",
   "metadata": {},
   "outputs": [],
   "source": [
    "X_train, X_test, y_train, y_test = train_test_split(X, sentiments, test_size=0.2, random_state=42)"
   ]
  },
  {
   "cell_type": "markdown",
   "id": "363e7fbb-8ca9-4758-b205-5e1ab2061ebe",
   "metadata": {},
   "source": [
    "MODEL TRAINING"
   ]
  },
  {
   "cell_type": "code",
   "execution_count": 12,
   "id": "28e49ad6-3315-4190-a9d3-3cf651043af8",
   "metadata": {},
   "outputs": [
    {
     "data": {
      "text/html": [
       "<style>#sk-container-id-1 {color: black;background-color: white;}#sk-container-id-1 pre{padding: 0;}#sk-container-id-1 div.sk-toggleable {background-color: white;}#sk-container-id-1 label.sk-toggleable__label {cursor: pointer;display: block;width: 100%;margin-bottom: 0;padding: 0.3em;box-sizing: border-box;text-align: center;}#sk-container-id-1 label.sk-toggleable__label-arrow:before {content: \"▸\";float: left;margin-right: 0.25em;color: #696969;}#sk-container-id-1 label.sk-toggleable__label-arrow:hover:before {color: black;}#sk-container-id-1 div.sk-estimator:hover label.sk-toggleable__label-arrow:before {color: black;}#sk-container-id-1 div.sk-toggleable__content {max-height: 0;max-width: 0;overflow: hidden;text-align: left;background-color: #f0f8ff;}#sk-container-id-1 div.sk-toggleable__content pre {margin: 0.2em;color: black;border-radius: 0.25em;background-color: #f0f8ff;}#sk-container-id-1 input.sk-toggleable__control:checked~div.sk-toggleable__content {max-height: 200px;max-width: 100%;overflow: auto;}#sk-container-id-1 input.sk-toggleable__control:checked~label.sk-toggleable__label-arrow:before {content: \"▾\";}#sk-container-id-1 div.sk-estimator input.sk-toggleable__control:checked~label.sk-toggleable__label {background-color: #d4ebff;}#sk-container-id-1 div.sk-label input.sk-toggleable__control:checked~label.sk-toggleable__label {background-color: #d4ebff;}#sk-container-id-1 input.sk-hidden--visually {border: 0;clip: rect(1px 1px 1px 1px);clip: rect(1px, 1px, 1px, 1px);height: 1px;margin: -1px;overflow: hidden;padding: 0;position: absolute;width: 1px;}#sk-container-id-1 div.sk-estimator {font-family: monospace;background-color: #f0f8ff;border: 1px dotted black;border-radius: 0.25em;box-sizing: border-box;margin-bottom: 0.5em;}#sk-container-id-1 div.sk-estimator:hover {background-color: #d4ebff;}#sk-container-id-1 div.sk-parallel-item::after {content: \"\";width: 100%;border-bottom: 1px solid gray;flex-grow: 1;}#sk-container-id-1 div.sk-label:hover label.sk-toggleable__label {background-color: #d4ebff;}#sk-container-id-1 div.sk-serial::before {content: \"\";position: absolute;border-left: 1px solid gray;box-sizing: border-box;top: 0;bottom: 0;left: 50%;z-index: 0;}#sk-container-id-1 div.sk-serial {display: flex;flex-direction: column;align-items: center;background-color: white;padding-right: 0.2em;padding-left: 0.2em;position: relative;}#sk-container-id-1 div.sk-item {position: relative;z-index: 1;}#sk-container-id-1 div.sk-parallel {display: flex;align-items: stretch;justify-content: center;background-color: white;position: relative;}#sk-container-id-1 div.sk-item::before, #sk-container-id-1 div.sk-parallel-item::before {content: \"\";position: absolute;border-left: 1px solid gray;box-sizing: border-box;top: 0;bottom: 0;left: 50%;z-index: -1;}#sk-container-id-1 div.sk-parallel-item {display: flex;flex-direction: column;z-index: 1;position: relative;background-color: white;}#sk-container-id-1 div.sk-parallel-item:first-child::after {align-self: flex-end;width: 50%;}#sk-container-id-1 div.sk-parallel-item:last-child::after {align-self: flex-start;width: 50%;}#sk-container-id-1 div.sk-parallel-item:only-child::after {width: 0;}#sk-container-id-1 div.sk-dashed-wrapped {border: 1px dashed gray;margin: 0 0.4em 0.5em 0.4em;box-sizing: border-box;padding-bottom: 0.4em;background-color: white;}#sk-container-id-1 div.sk-label label {font-family: monospace;font-weight: bold;display: inline-block;line-height: 1.2em;}#sk-container-id-1 div.sk-label-container {text-align: center;}#sk-container-id-1 div.sk-container {/* jupyter's `normalize.less` sets `[hidden] { display: none; }` but bootstrap.min.css set `[hidden] { display: none !important; }` so we also need the `!important` here to be able to override the default hidden behavior on the sphinx rendered scikit-learn.org. See: https://github.com/scikit-learn/scikit-learn/issues/21755 */display: inline-block !important;position: relative;}#sk-container-id-1 div.sk-text-repr-fallback {display: none;}</style><div id=\"sk-container-id-1\" class=\"sk-top-container\"><div class=\"sk-text-repr-fallback\"><pre>LogisticRegression(max_iter=1000)</pre><b>In a Jupyter environment, please rerun this cell to show the HTML representation or trust the notebook. <br />On GitHub, the HTML representation is unable to render, please try loading this page with nbviewer.org.</b></div><div class=\"sk-container\" hidden><div class=\"sk-item\"><div class=\"sk-estimator sk-toggleable\"><input class=\"sk-toggleable__control sk-hidden--visually\" id=\"sk-estimator-id-1\" type=\"checkbox\" checked><label for=\"sk-estimator-id-1\" class=\"sk-toggleable__label sk-toggleable__label-arrow\">LogisticRegression</label><div class=\"sk-toggleable__content\"><pre>LogisticRegression(max_iter=1000)</pre></div></div></div></div></div>"
      ],
      "text/plain": [
       "LogisticRegression(max_iter=1000)"
      ]
     },
     "execution_count": 12,
     "metadata": {},
     "output_type": "execute_result"
    }
   ],
   "source": [
    "model = LogisticRegression(max_iter=1000)\n",
    "model.fit(X_train, y_train)\n"
   ]
  },
  {
   "cell_type": "markdown",
   "id": "29cdc816-0aa3-4d71-aa75-8375d3879360",
   "metadata": {},
   "source": [
    "MODEL EVALUATION"
   ]
  },
  {
   "cell_type": "code",
   "execution_count": 24,
   "id": "d5111e32-7757-458b-816c-b2f8ce365914",
   "metadata": {},
   "outputs": [
    {
     "name": "stdout",
     "output_type": "stream",
     "text": [
      "Logistic Regression Classification Report:\n",
      "              precision    recall  f1-score   support\n",
      "\n",
      "    negative       0.00      0.00      0.00        34\n",
      "     neutral       0.90      1.00      0.94       291\n",
      "\n",
      "    accuracy                           0.90       325\n",
      "   macro avg       0.45      0.50      0.47       325\n",
      "weighted avg       0.80      0.90      0.85       325\n",
      "\n"
     ]
    },
    {
     "name": "stderr",
     "output_type": "stream",
     "text": [
      "C:\\Users\\durga\\anaconda3\\Lib\\site-packages\\sklearn\\metrics\\_classification.py:1344: UndefinedMetricWarning: Precision and F-score are ill-defined and being set to 0.0 in labels with no predicted samples. Use `zero_division` parameter to control this behavior.\n",
      "  _warn_prf(average, modifier, msg_start, len(result))\n",
      "C:\\Users\\durga\\anaconda3\\Lib\\site-packages\\sklearn\\metrics\\_classification.py:1344: UndefinedMetricWarning: Precision and F-score are ill-defined and being set to 0.0 in labels with no predicted samples. Use `zero_division` parameter to control this behavior.\n",
      "  _warn_prf(average, modifier, msg_start, len(result))\n",
      "C:\\Users\\durga\\anaconda3\\Lib\\site-packages\\sklearn\\metrics\\_classification.py:1344: UndefinedMetricWarning: Precision and F-score are ill-defined and being set to 0.0 in labels with no predicted samples. Use `zero_division` parameter to control this behavior.\n",
      "  _warn_prf(average, modifier, msg_start, len(result))\n"
     ]
    }
   ],
   "source": [
    "y_pred = model.predict(X_test)\n",
    "print(\"Logistic Regression Classification Report:\")\n",
    "print(classification_report(y_test, y_pred))"
   ]
  },
  {
   "cell_type": "markdown",
   "id": "40c8a7ca-15b7-4e48-8abe-0b91f7301f41",
   "metadata": {},
   "source": [
    "MODEL - SUPPORT VECTOR MACHINE"
   ]
  },
  {
   "cell_type": "code",
   "execution_count": 14,
   "id": "bd33d34a-65fd-4922-b816-5964ff5acb51",
   "metadata": {},
   "outputs": [
    {
     "name": "stdout",
     "output_type": "stream",
     "text": [
      "SVM Classification Report:\n",
      "              precision    recall  f1-score   support\n",
      "\n",
      "    negative       1.00      0.12      0.21        34\n",
      "     neutral       0.91      1.00      0.95       291\n",
      "\n",
      "    accuracy                           0.91       325\n",
      "   macro avg       0.95      0.56      0.58       325\n",
      "weighted avg       0.92      0.91      0.87       325\n",
      "\n"
     ]
    }
   ],
   "source": [
    "from sklearn.svm import SVC\n",
    "\n",
    "# Model Training\n",
    "svm_model = SVC(kernel='linear')\n",
    "svm_model.fit(X_train, y_train)\n",
    "\n",
    "# Model Evaluation\n",
    "svm_y_pred = svm_model.predict(X_test)\n",
    "print(\"SVM Classification Report:\")\n",
    "print(classification_report(y_test, svm_y_pred))"
   ]
  },
  {
   "cell_type": "markdown",
   "id": "2b4da530-f832-497e-9164-0573e6fb07f1",
   "metadata": {},
   "source": [
    "MODEL - RANDOM FOREST"
   ]
  },
  {
   "cell_type": "code",
   "execution_count": 15,
   "id": "9fca0c46-5b21-4cf5-b0c1-44bc6ba5ba43",
   "metadata": {},
   "outputs": [
    {
     "name": "stdout",
     "output_type": "stream",
     "text": [
      "Random Forest Classification Report:\n",
      "              precision    recall  f1-score   support\n",
      "\n",
      "    negative       0.86      0.18      0.29        34\n",
      "     neutral       0.91      1.00      0.95       291\n",
      "\n",
      "    accuracy                           0.91       325\n",
      "   macro avg       0.88      0.59      0.62       325\n",
      "weighted avg       0.91      0.91      0.88       325\n",
      "\n"
     ]
    }
   ],
   "source": [
    "from sklearn.ensemble import RandomForestClassifier\n",
    "\n",
    "# Model Training\n",
    "rf_model = RandomForestClassifier(n_estimators=100, random_state=42)\n",
    "rf_model.fit(X_train, y_train)\n",
    "\n",
    "# Model Evaluation\n",
    "rf_y_pred = rf_model.predict(X_test)\n",
    "print(\"Random Forest Classification Report:\")\n",
    "print(classification_report(y_test, rf_y_pred))"
   ]
  },
  {
   "cell_type": "code",
   "execution_count": 23,
   "id": "1e91d559-5d3c-4022-b3dc-99f276771681",
   "metadata": {},
   "outputs": [
    {
     "name": "stdout",
     "output_type": "stream",
     "text": [
      "SVM model saved to: C:/Users/durga/Desktop/SPU/DS 600/PROJECT/FINAL/svm_model.pkl\n",
      "Random Forest model saved to: C:/Users/durga/Desktop/SPU/DS 600/PROJECT/FINAL/rf_model.pkl\n"
     ]
    }
   ],
   "source": [
    "import joblib\n",
    "\n",
    "\n",
    "directory = 'C:/Users/durga/Desktop/SPU/DS 600/PROJECT/FINAL/'\n",
    "\n",
    "\n",
    "svm_model_path = directory + 'svm_model.pkl'\n",
    "joblib.dump(svm_model, svm_model_path)\n",
    "\n",
    "\n",
    "rf_model_path = directory + 'rf_model.pkl'\n",
    "joblib.dump(rf_model, rf_model_path)\n",
    "\n",
    "print(\"SVM model saved to:\", svm_model_path)\n",
    "print(\"Random Forest model saved to:\", rf_model_path)\n"
   ]
  },
  {
   "cell_type": "code",
   "execution_count": null,
   "id": "0de43566-0adb-43b1-a046-695145ef5807",
   "metadata": {},
   "outputs": [],
   "source": []
  }
 ],
 "metadata": {
  "kernelspec": {
   "display_name": "Python 3 (ipykernel)",
   "language": "python",
   "name": "python3"
  },
  "language_info": {
   "codemirror_mode": {
    "name": "ipython",
    "version": 3
   },
   "file_extension": ".py",
   "mimetype": "text/x-python",
   "name": "python",
   "nbconvert_exporter": "python",
   "pygments_lexer": "ipython3",
   "version": "3.11.7"
  }
 },
 "nbformat": 4,
 "nbformat_minor": 5
}
