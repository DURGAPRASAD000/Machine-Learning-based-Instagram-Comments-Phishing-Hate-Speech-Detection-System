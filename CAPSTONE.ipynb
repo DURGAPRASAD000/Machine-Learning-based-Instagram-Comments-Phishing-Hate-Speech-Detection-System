{
 "cells": [
  {
   "cell_type": "markdown",
   "id": "39fc5de8-d9e4-4999-bb2a-16c7b6f0eda8",
   "metadata": {},
   "source": [
    "# PROJECT TITLE : Machine Learning-based Instagram Comments Phishing & Hate Speech Detection System\n",
    "\n",
    "# TEAM MEMBERS:\n",
    "# DURGA PRASAD THOTA\n",
    "# VARUN KUMAR POLISETTY\n",
    "# NAGARAGERI SAICHITRA\n"
   ]
  },
  {
   "cell_type": "code",
   "execution_count": null,
   "id": "bd65d9eb-e255-46df-889d-703e689dd4ac",
   "metadata": {},
   "outputs": [],
   "source": []
  },
  {
   "cell_type": "code",
   "execution_count": null,
   "id": "fe085285-ce98-4424-9541-ee7f1f2d58e3",
   "metadata": {},
   "outputs": [],
   "source": []
  }
 ],
 "metadata": {
  "kernelspec": {
   "display_name": "Python 3 (ipykernel)",
   "language": "python",
   "name": "python3"
  },
  "language_info": {
   "codemirror_mode": {
    "name": "ipython",
    "version": 3
   },
   "file_extension": ".py",
   "mimetype": "text/x-python",
   "name": "python",
   "nbconvert_exporter": "python",
   "pygments_lexer": "ipython3",
   "version": "3.11.7"
  }
 },
 "nbformat": 4,
 "nbformat_minor": 5
}
