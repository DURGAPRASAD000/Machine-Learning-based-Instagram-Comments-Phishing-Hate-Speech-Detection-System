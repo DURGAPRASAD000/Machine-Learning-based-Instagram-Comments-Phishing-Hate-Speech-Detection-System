{
 "cells": [
  {
   "cell_type": "markdown",
   "id": "a9f8fdc0-dce0-4fc3-b09d-36f3f736a5b7",
   "metadata": {},
   "source": [
    "DATA LOADING"
   ]
  },
  {
   "cell_type": "code",
   "execution_count": 1,
   "id": "bd65d9eb-e255-46df-889d-703e689dd4ac",
   "metadata": {},
   "outputs": [],
   "source": [
    "import pandas as pd"
   ]
  },
  {
   "cell_type": "code",
   "execution_count": 2,
   "id": "fe085285-ce98-4424-9541-ee7f1f2d58e3",
   "metadata": {},
   "outputs": [],
   "source": [
    "df = pd.read_csv(\"C:/Users/durga/Desktop/SPU/DS 600/PROJECT/FINAL/DATA_SET.CSV\", encoding='latin1')"
   ]
  },
  {
   "cell_type": "markdown",
   "id": "27d773e0-0ed9-416d-a37b-74970401ea39",
   "metadata": {},
   "source": [
    "DATA CLEANING AND PRE PROCESSING"
   ]
  },
  {
   "cell_type": "code",
   "execution_count": 3,
   "id": "fdb108a2-cfdd-4b28-91cd-28cf4f978bb1",
   "metadata": {
    "scrolled": true
   },
   "outputs": [
    {
     "data": {
      "text/html": [
       "<div>\n",
       "<style scoped>\n",
       "    .dataframe tbody tr th:only-of-type {\n",
       "        vertical-align: middle;\n",
       "    }\n",
       "\n",
       "    .dataframe tbody tr th {\n",
       "        vertical-align: top;\n",
       "    }\n",
       "\n",
       "    .dataframe thead th {\n",
       "        text-align: right;\n",
       "    }\n",
       "</style>\n",
       "<table border=\"1\" class=\"dataframe\">\n",
       "  <thead>\n",
       "    <tr style=\"text-align: right;\">\n",
       "      <th></th>\n",
       "      <th>Sl no</th>\n",
       "      <th>Name</th>\n",
       "      <th>Profile ID</th>\n",
       "      <th>Date</th>\n",
       "      <th>Comment</th>\n",
       "    </tr>\n",
       "  </thead>\n",
       "  <tbody>\n",
       "    <tr>\n",
       "      <th>0</th>\n",
       "      <td>1.0</td>\n",
       "      <td>scotty2jatty</td>\n",
       "      <td>3.982741e+08</td>\n",
       "      <td>22/04/24 05:27:52</td>\n",
       "      <td>You better do @jakepaul dirty ð</td>\n",
       "    </tr>\n",
       "    <tr>\n",
       "      <th>1</th>\n",
       "      <td>2.0</td>\n",
       "      <td>angelasanders975</td>\n",
       "      <td>6.596329e+10</td>\n",
       "      <td>22/04/24 17:43:49</td>\n",
       "      <td>That's soooooooooo right</td>\n",
       "    </tr>\n",
       "    <tr>\n",
       "      <th>2</th>\n",
       "      <td>3.0</td>\n",
       "      <td>myleslewis_24</td>\n",
       "      <td>1.168729e+10</td>\n",
       "      <td>22/04/24 17:49:54</td>\n",
       "      <td>bro i want that shirt</td>\n",
       "    </tr>\n",
       "    <tr>\n",
       "      <th>3</th>\n",
       "      <td>4.0</td>\n",
       "      <td>miladheydarpour1369</td>\n",
       "      <td>7.529961e+09</td>\n",
       "      <td>22/04/24 18:44:02</td>\n",
       "      <td>ð¹</td>\n",
       "    </tr>\n",
       "    <tr>\n",
       "      <th>4</th>\n",
       "      <td>5.0</td>\n",
       "      <td>matthew_williams224</td>\n",
       "      <td>2.524021e+10</td>\n",
       "      <td>22/04/24 18:53:42</td>\n",
       "      <td>@michael_galt_1984 bro he only needs 1% to bea...</td>\n",
       "    </tr>\n",
       "  </tbody>\n",
       "</table>\n",
       "</div>"
      ],
      "text/plain": [
       "   Sl no                 Name    Profile ID               Date  \\\n",
       "0    1.0         scotty2jatty  3.982741e+08  22/04/24 05:27:52   \n",
       "1    2.0     angelasanders975  6.596329e+10  22/04/24 17:43:49   \n",
       "2    3.0        myleslewis_24  1.168729e+10  22/04/24 17:49:54   \n",
       "3    4.0  miladheydarpour1369  7.529961e+09  22/04/24 18:44:02   \n",
       "4    5.0  matthew_williams224  2.524021e+10  22/04/24 18:53:42   \n",
       "\n",
       "                                             Comment  \n",
       "0                 You better do @jakepaul dirty ð  \n",
       "1                           That's soooooooooo right  \n",
       "2                              bro i want that shirt  \n",
       "3                                               ð¹  \n",
       "4  @michael_galt_1984 bro he only needs 1% to bea...  "
      ]
     },
     "execution_count": 3,
     "metadata": {},
     "output_type": "execute_result"
    }
   ],
   "source": [
    "df.head()"
   ]
  },
  {
   "cell_type": "code",
   "execution_count": 4,
   "id": "df97003b-e34e-4007-b942-474a2dce76df",
   "metadata": {},
   "outputs": [
    {
     "name": "stdout",
     "output_type": "stream",
     "text": [
      "<class 'pandas.core.frame.DataFrame'>\n",
      "RangeIndex: 2028 entries, 0 to 2027\n",
      "Data columns (total 5 columns):\n",
      " #   Column      Non-Null Count  Dtype  \n",
      "---  ------      --------------  -----  \n",
      " 0   Sl no       2004 non-null   float64\n",
      " 1   Name        2024 non-null   object \n",
      " 2   Profile ID  2023 non-null   float64\n",
      " 3   Date        2023 non-null   object \n",
      " 4   Comment     1976 non-null   object \n",
      "dtypes: float64(2), object(3)\n",
      "memory usage: 79.3+ KB\n"
     ]
    }
   ],
   "source": [
    "df.info()\n"
   ]
  },
  {
   "cell_type": "code",
   "execution_count": 5,
   "id": "d4b3e5a3-458d-46ef-9e5f-fd539bbb0e6e",
   "metadata": {},
   "outputs": [
    {
     "data": {
      "text/html": [
       "<div>\n",
       "<style scoped>\n",
       "    .dataframe tbody tr th:only-of-type {\n",
       "        vertical-align: middle;\n",
       "    }\n",
       "\n",
       "    .dataframe tbody tr th {\n",
       "        vertical-align: top;\n",
       "    }\n",
       "\n",
       "    .dataframe thead th {\n",
       "        text-align: right;\n",
       "    }\n",
       "</style>\n",
       "<table border=\"1\" class=\"dataframe\">\n",
       "  <thead>\n",
       "    <tr style=\"text-align: right;\">\n",
       "      <th></th>\n",
       "      <th>Sl no</th>\n",
       "      <th>Name</th>\n",
       "      <th>Profile ID</th>\n",
       "      <th>Date</th>\n",
       "      <th>Comment</th>\n",
       "    </tr>\n",
       "  </thead>\n",
       "  <tbody>\n",
       "    <tr>\n",
       "      <th>0</th>\n",
       "      <td>1.0</td>\n",
       "      <td>scotty2jatty</td>\n",
       "      <td>398274122.0</td>\n",
       "      <td>22/04/24 05:27:52</td>\n",
       "      <td>You better do @jakepaul dirty ð</td>\n",
       "    </tr>\n",
       "    <tr>\n",
       "      <th>1</th>\n",
       "      <td>2.0</td>\n",
       "      <td>angelasanders975</td>\n",
       "      <td>65963290409.0</td>\n",
       "      <td>22/04/24 17:43:49</td>\n",
       "      <td>That's soooooooooo right</td>\n",
       "    </tr>\n",
       "    <tr>\n",
       "      <th>2</th>\n",
       "      <td>3.0</td>\n",
       "      <td>myleslewis_24</td>\n",
       "      <td>11687291106.0</td>\n",
       "      <td>22/04/24 17:49:54</td>\n",
       "      <td>bro i want that shirt</td>\n",
       "    </tr>\n",
       "    <tr>\n",
       "      <th>3</th>\n",
       "      <td>4.0</td>\n",
       "      <td>miladheydarpour1369</td>\n",
       "      <td>7529960718.0</td>\n",
       "      <td>22/04/24 18:44:02</td>\n",
       "      <td>ð¹</td>\n",
       "    </tr>\n",
       "    <tr>\n",
       "      <th>4</th>\n",
       "      <td>5.0</td>\n",
       "      <td>matthew_williams224</td>\n",
       "      <td>25240207448.0</td>\n",
       "      <td>22/04/24 18:53:42</td>\n",
       "      <td>@michael_galt_1984 bro he only needs 1% to bea...</td>\n",
       "    </tr>\n",
       "  </tbody>\n",
       "</table>\n",
       "</div>"
      ],
      "text/plain": [
       "   Sl no                 Name     Profile ID               Date  \\\n",
       "0    1.0         scotty2jatty    398274122.0  22/04/24 05:27:52   \n",
       "1    2.0     angelasanders975  65963290409.0  22/04/24 17:43:49   \n",
       "2    3.0        myleslewis_24  11687291106.0  22/04/24 17:49:54   \n",
       "3    4.0  miladheydarpour1369   7529960718.0  22/04/24 18:44:02   \n",
       "4    5.0  matthew_williams224  25240207448.0  22/04/24 18:53:42   \n",
       "\n",
       "                                             Comment  \n",
       "0                 You better do @jakepaul dirty ð  \n",
       "1                           That's soooooooooo right  \n",
       "2                              bro i want that shirt  \n",
       "3                                               ð¹  \n",
       "4  @michael_galt_1984 bro he only needs 1% to bea...  "
      ]
     },
     "execution_count": 5,
     "metadata": {},
     "output_type": "execute_result"
    }
   ],
   "source": [
    "# Converting inot the suitable data types for the variables\n",
    "df['Name'] = df['Name'].astype(str)\n",
    "df['Profile ID'] = df['Profile ID'].astype(str)\n",
    "df.head()"
   ]
  },
  {
   "cell_type": "code",
   "execution_count": 6,
   "id": "148bdbbf-cbb7-43d5-9289-9a9878b4d8b8",
   "metadata": {},
   "outputs": [],
   "source": [
    "#dropping off unnessary colums from the data set\n",
    "df.drop(columns=['Sl no'], inplace=True)\n"
   ]
  },
  {
   "cell_type": "code",
   "execution_count": 7,
   "id": "f7cc4e7a-c71e-4be7-a4ab-f47ba932cb33",
   "metadata": {},
   "outputs": [
    {
     "data": {
      "text/html": [
       "<div>\n",
       "<style scoped>\n",
       "    .dataframe tbody tr th:only-of-type {\n",
       "        vertical-align: middle;\n",
       "    }\n",
       "\n",
       "    .dataframe tbody tr th {\n",
       "        vertical-align: top;\n",
       "    }\n",
       "\n",
       "    .dataframe thead th {\n",
       "        text-align: right;\n",
       "    }\n",
       "</style>\n",
       "<table border=\"1\" class=\"dataframe\">\n",
       "  <thead>\n",
       "    <tr style=\"text-align: right;\">\n",
       "      <th></th>\n",
       "      <th>Name</th>\n",
       "      <th>Profile ID</th>\n",
       "      <th>Date</th>\n",
       "      <th>Comment</th>\n",
       "    </tr>\n",
       "  </thead>\n",
       "  <tbody>\n",
       "    <tr>\n",
       "      <th>0</th>\n",
       "      <td>scotty2jatty</td>\n",
       "      <td>398274122.0</td>\n",
       "      <td>22/04/24 05:27:52</td>\n",
       "      <td>You better do @jakepaul dirty ð</td>\n",
       "    </tr>\n",
       "    <tr>\n",
       "      <th>1</th>\n",
       "      <td>angelasanders975</td>\n",
       "      <td>65963290409.0</td>\n",
       "      <td>22/04/24 17:43:49</td>\n",
       "      <td>That's soooooooooo right</td>\n",
       "    </tr>\n",
       "    <tr>\n",
       "      <th>2</th>\n",
       "      <td>myleslewis_24</td>\n",
       "      <td>11687291106.0</td>\n",
       "      <td>22/04/24 17:49:54</td>\n",
       "      <td>bro i want that shirt</td>\n",
       "    </tr>\n",
       "    <tr>\n",
       "      <th>3</th>\n",
       "      <td>miladheydarpour1369</td>\n",
       "      <td>7529960718.0</td>\n",
       "      <td>22/04/24 18:44:02</td>\n",
       "      <td>ð¹</td>\n",
       "    </tr>\n",
       "    <tr>\n",
       "      <th>4</th>\n",
       "      <td>matthew_williams224</td>\n",
       "      <td>25240207448.0</td>\n",
       "      <td>22/04/24 18:53:42</td>\n",
       "      <td>@michael_galt_1984 bro he only needs 1% to bea...</td>\n",
       "    </tr>\n",
       "  </tbody>\n",
       "</table>\n",
       "</div>"
      ],
      "text/plain": [
       "                  Name     Profile ID               Date  \\\n",
       "0         scotty2jatty    398274122.0  22/04/24 05:27:52   \n",
       "1     angelasanders975  65963290409.0  22/04/24 17:43:49   \n",
       "2        myleslewis_24  11687291106.0  22/04/24 17:49:54   \n",
       "3  miladheydarpour1369   7529960718.0  22/04/24 18:44:02   \n",
       "4  matthew_williams224  25240207448.0  22/04/24 18:53:42   \n",
       "\n",
       "                                             Comment  \n",
       "0                 You better do @jakepaul dirty ð  \n",
       "1                           That's soooooooooo right  \n",
       "2                              bro i want that shirt  \n",
       "3                                               ð¹  \n",
       "4  @michael_galt_1984 bro he only needs 1% to bea...  "
      ]
     },
     "execution_count": 7,
     "metadata": {},
     "output_type": "execute_result"
    }
   ],
   "source": [
    "df.head()"
   ]
  },
  {
   "cell_type": "code",
   "execution_count": 8,
   "id": "05927706-a85b-4503-9247-215ce7bb51d2",
   "metadata": {},
   "outputs": [],
   "source": [
    "# To check the length of each comment \n",
    "df['Comment_Length'] = df['Comment'].str.len()"
   ]
  },
  {
   "cell_type": "code",
   "execution_count": 9,
   "id": "a039fb95-be3b-4941-9fb5-7b62f0cba0ee",
   "metadata": {},
   "outputs": [
    {
     "data": {
      "text/html": [
       "<div>\n",
       "<style scoped>\n",
       "    .dataframe tbody tr th:only-of-type {\n",
       "        vertical-align: middle;\n",
       "    }\n",
       "\n",
       "    .dataframe tbody tr th {\n",
       "        vertical-align: top;\n",
       "    }\n",
       "\n",
       "    .dataframe thead th {\n",
       "        text-align: right;\n",
       "    }\n",
       "</style>\n",
       "<table border=\"1\" class=\"dataframe\">\n",
       "  <thead>\n",
       "    <tr style=\"text-align: right;\">\n",
       "      <th></th>\n",
       "      <th>Name</th>\n",
       "      <th>Profile ID</th>\n",
       "      <th>Date</th>\n",
       "      <th>Comment</th>\n",
       "      <th>Comment_Length</th>\n",
       "    </tr>\n",
       "  </thead>\n",
       "  <tbody>\n",
       "    <tr>\n",
       "      <th>0</th>\n",
       "      <td>scotty2jatty</td>\n",
       "      <td>398274122.0</td>\n",
       "      <td>22/04/24 05:27:52</td>\n",
       "      <td>You better do @jakepaul dirty ð</td>\n",
       "      <td>34.0</td>\n",
       "    </tr>\n",
       "    <tr>\n",
       "      <th>1</th>\n",
       "      <td>angelasanders975</td>\n",
       "      <td>65963290409.0</td>\n",
       "      <td>22/04/24 17:43:49</td>\n",
       "      <td>That's soooooooooo right</td>\n",
       "      <td>24.0</td>\n",
       "    </tr>\n",
       "    <tr>\n",
       "      <th>2</th>\n",
       "      <td>myleslewis_24</td>\n",
       "      <td>11687291106.0</td>\n",
       "      <td>22/04/24 17:49:54</td>\n",
       "      <td>bro i want that shirt</td>\n",
       "      <td>21.0</td>\n",
       "    </tr>\n",
       "    <tr>\n",
       "      <th>3</th>\n",
       "      <td>miladheydarpour1369</td>\n",
       "      <td>7529960718.0</td>\n",
       "      <td>22/04/24 18:44:02</td>\n",
       "      <td>ð¹</td>\n",
       "      <td>4.0</td>\n",
       "    </tr>\n",
       "    <tr>\n",
       "      <th>4</th>\n",
       "      <td>matthew_williams224</td>\n",
       "      <td>25240207448.0</td>\n",
       "      <td>22/04/24 18:53:42</td>\n",
       "      <td>@michael_galt_1984 bro he only needs 1% to bea...</td>\n",
       "      <td>60.0</td>\n",
       "    </tr>\n",
       "  </tbody>\n",
       "</table>\n",
       "</div>"
      ],
      "text/plain": [
       "                  Name     Profile ID               Date  \\\n",
       "0         scotty2jatty    398274122.0  22/04/24 05:27:52   \n",
       "1     angelasanders975  65963290409.0  22/04/24 17:43:49   \n",
       "2        myleslewis_24  11687291106.0  22/04/24 17:49:54   \n",
       "3  miladheydarpour1369   7529960718.0  22/04/24 18:44:02   \n",
       "4  matthew_williams224  25240207448.0  22/04/24 18:53:42   \n",
       "\n",
       "                                             Comment  Comment_Length  \n",
       "0                 You better do @jakepaul dirty ð            34.0  \n",
       "1                           That's soooooooooo right            24.0  \n",
       "2                              bro i want that shirt            21.0  \n",
       "3                                               ð¹             4.0  \n",
       "4  @michael_galt_1984 bro he only needs 1% to bea...            60.0  "
      ]
     },
     "execution_count": 9,
     "metadata": {},
     "output_type": "execute_result"
    }
   ],
   "source": [
    "df.head()"
   ]
  },
  {
   "cell_type": "code",
   "execution_count": 10,
   "id": "dc91ae41-74a0-4ec8-8d2d-5090de11f9f7",
   "metadata": {},
   "outputs": [
    {
     "data": {
      "text/plain": [
       "(2028, 5)"
      ]
     },
     "execution_count": 10,
     "metadata": {},
     "output_type": "execute_result"
    }
   ],
   "source": [
    "# Checcking the rows and colums in the data set\n",
    "df.shape"
   ]
  },
  {
   "cell_type": "markdown",
   "id": "dc397621-bce2-4094-9021-b9aa81af7035",
   "metadata": {},
   "source": [
    "STOP WORDS REMOVAL"
   ]
  },
  {
   "cell_type": "code",
   "execution_count": 11,
   "id": "8d50869d-e35e-4fb7-b36f-401720c62eb5",
   "metadata": {},
   "outputs": [
    {
     "name": "stderr",
     "output_type": "stream",
     "text": [
      "[nltk_data] Downloading package stopwords to\n",
      "[nltk_data]     C:\\Users\\durga\\AppData\\Roaming\\nltk_data...\n",
      "[nltk_data]   Package stopwords is already up-to-date!\n"
     ]
    },
    {
     "data": {
      "text/plain": [
       "True"
      ]
     },
     "execution_count": 11,
     "metadata": {},
     "output_type": "execute_result"
    }
   ],
   "source": [
    "import nltk\n",
    "nltk.download('stopwords')\n"
   ]
  },
  {
   "cell_type": "code",
   "execution_count": 12,
   "id": "db8c3952-efd6-4abf-ab99-f71105dc513a",
   "metadata": {},
   "outputs": [
    {
     "name": "stdout",
     "output_type": "stream",
     "text": [
      "{'if', 'here', 'where', 'wouldn', 'll', \"you've\", 'up', 'didn', \"you'll\", 'a', 'when', 'o', 'why', 'any', 'has', 'yourselves', \"isn't\", \"needn't\", 'of', 'his', 'is', 'her', 'she', \"didn't\", 'such', 'again', 'than', 'ma', 'ourselves', 'into', 'other', 'mightn', \"aren't\", 'with', 'some', 'who', 'most', 'too', 'it', 'or', 'this', 'as', 'under', 'm', \"that'll\", 'doesn', 'shouldn', 'very', 'during', 'for', 'so', 'no', 'myself', 'whom', 'its', 'off', 'further', 'wasn', 'then', 'in', \"it's\", \"shan't\", 'the', 'until', 'y', 'itself', 'more', 'ain', 'how', \"won't\", 'aren', 'had', 'himself', 'weren', 'i', 'd', 'before', \"mightn't\", 'will', \"you're\", 'be', 'can', 'yourself', 'on', \"mustn't\", \"weren't\", 'were', \"you'd\", 'from', 'at', \"wasn't\", 'did', 'we', \"couldn't\", 'mustn', \"shouldn't\", 'down', \"doesn't\", 'hers', \"she's\", 'just', 'these', 're', \"should've\", 'there', \"don't\", 'they', 'own', 'yours', 'those', \"hadn't\", 'their', 'about', 'couldn', 'have', 'now', 'few', 'above', 'while', 'out', 'an', 's', 'between', 'same', 'through', 'isn', 'having', 'all', 'against', 'haven', 'to', 'was', 'been', \"haven't\", 'shan', 'but', 't', 've', 'hasn', 'won', 'them', 'both', 'he', 'which', 'only', 'being', 'what', 'my', 'should', 'themselves', 'once', 'am', 'our', 'because', 'your', 'ours', 'don', 'theirs', 'that', \"hasn't\", 'doing', 'you', 'herself', 'hadn', 'over', \"wouldn't\", 'below', 'nor', 'and', 'him', 'does', 'not', 'are', 'by', 'after', 'do', 'each', 'needn', 'me'}\n"
     ]
    }
   ],
   "source": [
    "from nltk.corpus import stopwords\n",
    "import re\n",
    "\n",
    "stopwords = set(stopwords.words(\"english\"))\n",
    "\n",
    "print(stopwords)"
   ]
  },
  {
   "cell_type": "code",
   "execution_count": 13,
   "id": "5e523f8f-6ecb-4fb1-acae-6b71c75896fb",
   "metadata": {},
   "outputs": [],
   "source": [
    "import pandas as pd\n",
    "import re\n",
    "def remove_stopwords(text):\n",
    "    if isinstance(text, str):\n",
    "        filtered_words = [word.lower() for word in text.split() if word.lower() not in stopwords]\n",
    "        return \" \".join(filtered_words)\n",
    "    else:\n",
    "        return \"\"\n",
    "\n",
    "# removing numbers and punctuations\n",
    "def preprocess(text):\n",
    "    if isinstance(text, str):\n",
    "        text_input = re.sub(r'!', ' ', str(text))\n",
    "        text_input = re.sub(r'[0-9]+', '', str(text_input))\n",
    "        text_input = text_input.replace('<br /><br />', '')\n",
    "        text_input = text_input.replace('(', '')\n",
    "        text_input = text_input.replace('@', '')\n",
    "        text_input = text_input.replace('_', '')\n",
    "        text_input = text_input.replace('%', '')\n",
    "        text_input = text_input.replace('\"', '')\n",
    "        text_input = text_input.replace('$', '')\n",
    "        text_input = text_input.replace('*', '')\n",
    "        text_input = text_input.replace('.', '')\n",
    "        text_input = text_input.replace('/', '')\n",
    "        text_input = text_input.replace(':', '')\n",
    "        text_input = text_input.replace('?', '')\n",
    "        text_input = text_input.replace(',', '')\n",
    "        text_input = text_input.replace('---', '')\n",
    "        text_input = text_input.replace(\"'\", '')\n",
    "        output = text_input.replace(')', '')\n",
    "        return output.lower().strip()\n",
    "    else:\n",
    "        return \"\"\n",
    "\n",
    "# Applying the functions to the DataFrame\n",
    "df['Comment'] = df['Comment'].map(remove_stopwords)\n",
    "df['Comment'] = df['Comment'].map(preprocess)\n",
    "\n",
    "# Extracting the filtered data\n",
    "df['Comment'] = df['Comment']"
   ]
  },
  {
   "cell_type": "code",
   "execution_count": 14,
   "id": "698571f7-9be3-4b95-b1e0-35653442c75b",
   "metadata": {},
   "outputs": [
    {
     "data": {
      "text/plain": [
       "0                  better jakepaul dirty ð\n",
       "1                     thats soooooooooo right\n",
       "2                              bro want shirt\n",
       "3                                        ð¹\n",
       "4    michaelgalt bro needs  beat jakeâs ass\n",
       "Name: Comment, dtype: object"
      ]
     },
     "execution_count": 14,
     "metadata": {},
     "output_type": "execute_result"
    }
   ],
   "source": [
    "df['Comment'].head()"
   ]
  },
  {
   "cell_type": "code",
   "execution_count": 15,
   "id": "1c12b830-d53c-4af6-8c14-eeb10a5adf54",
   "metadata": {},
   "outputs": [],
   "source": [
    "def preprocess(text):\n",
    "    # Remove emojis and non-ASCII symbols\n",
    "    text_input = re.sub(r'[^\\x00-\\x7F]+', '', str(text))\n",
    "    # Remove punctuations and numbers\n",
    "    text_input = re.sub(r'[^\\w\\s]', ' ', text_input)\n",
    "    # Remove multiple spaces\n",
    "    text_input = re.sub(r'\\s+', ' ', text_input)\n",
    "    return text_input.strip().lower()\n",
    "\n",
    "# Applying the preprocess function to the 'Comment' column\n",
    "df['Comment'] = df['Comment'].map(preprocess)"
   ]
  },
  {
   "cell_type": "code",
   "execution_count": 16,
   "id": "3b1642e0-5d19-4f0c-b6e0-035415bee677",
   "metadata": {},
   "outputs": [
    {
     "data": {
      "text/plain": [
       "0                   better jakepaul dirty\n",
       "1                 thats soooooooooo right\n",
       "2                          bro want shirt\n",
       "3                                        \n",
       "4    michaelgalt bro needs beat jakes ass\n",
       "Name: Comment, dtype: object"
      ]
     },
     "execution_count": 16,
     "metadata": {},
     "output_type": "execute_result"
    }
   ],
   "source": [
    "df['Comment'].head()"
   ]
  },
  {
   "cell_type": "code",
   "execution_count": 17,
   "id": "0ee8d975-ea08-445b-a36f-554dc2b04823",
   "metadata": {},
   "outputs": [
    {
     "data": {
      "text/html": [
       "<div>\n",
       "<style scoped>\n",
       "    .dataframe tbody tr th:only-of-type {\n",
       "        vertical-align: middle;\n",
       "    }\n",
       "\n",
       "    .dataframe tbody tr th {\n",
       "        vertical-align: top;\n",
       "    }\n",
       "\n",
       "    .dataframe thead th {\n",
       "        text-align: right;\n",
       "    }\n",
       "</style>\n",
       "<table border=\"1\" class=\"dataframe\">\n",
       "  <thead>\n",
       "    <tr style=\"text-align: right;\">\n",
       "      <th></th>\n",
       "      <th>Name</th>\n",
       "      <th>Profile ID</th>\n",
       "      <th>Date</th>\n",
       "      <th>Comment</th>\n",
       "      <th>Comment_Length</th>\n",
       "    </tr>\n",
       "  </thead>\n",
       "  <tbody>\n",
       "    <tr>\n",
       "      <th>0</th>\n",
       "      <td>scotty2jatty</td>\n",
       "      <td>398274122.0</td>\n",
       "      <td>22/04/24 05:27:52</td>\n",
       "      <td>better jakepaul dirty</td>\n",
       "      <td>34.0</td>\n",
       "    </tr>\n",
       "    <tr>\n",
       "      <th>1</th>\n",
       "      <td>angelasanders975</td>\n",
       "      <td>65963290409.0</td>\n",
       "      <td>22/04/24 17:43:49</td>\n",
       "      <td>thats soooooooooo right</td>\n",
       "      <td>24.0</td>\n",
       "    </tr>\n",
       "    <tr>\n",
       "      <th>2</th>\n",
       "      <td>myleslewis_24</td>\n",
       "      <td>11687291106.0</td>\n",
       "      <td>22/04/24 17:49:54</td>\n",
       "      <td>bro want shirt</td>\n",
       "      <td>21.0</td>\n",
       "    </tr>\n",
       "    <tr>\n",
       "      <th>3</th>\n",
       "      <td>miladheydarpour1369</td>\n",
       "      <td>7529960718.0</td>\n",
       "      <td>22/04/24 18:44:02</td>\n",
       "      <td></td>\n",
       "      <td>4.0</td>\n",
       "    </tr>\n",
       "    <tr>\n",
       "      <th>4</th>\n",
       "      <td>matthew_williams224</td>\n",
       "      <td>25240207448.0</td>\n",
       "      <td>22/04/24 18:53:42</td>\n",
       "      <td>michaelgalt bro needs beat jakes ass</td>\n",
       "      <td>60.0</td>\n",
       "    </tr>\n",
       "    <tr>\n",
       "      <th>...</th>\n",
       "      <td>...</td>\n",
       "      <td>...</td>\n",
       "      <td>...</td>\n",
       "      <td>...</td>\n",
       "      <td>...</td>\n",
       "    </tr>\n",
       "    <tr>\n",
       "      <th>2023</th>\n",
       "      <td>moespoe14</td>\n",
       "      <td>4984522145.0</td>\n",
       "      <td>19/02/20 12:49:27</td>\n",
       "      <td>she smiling carnivore plant</td>\n",
       "      <td>43.0</td>\n",
       "    </tr>\n",
       "    <tr>\n",
       "      <th>2024</th>\n",
       "      <td>moespoe14</td>\n",
       "      <td>4984522145.0</td>\n",
       "      <td>19/02/20 12:50:09</td>\n",
       "      <td>lifewithangela where</td>\n",
       "      <td>24.0</td>\n",
       "    </tr>\n",
       "    <tr>\n",
       "      <th>2025</th>\n",
       "      <td>splashelegant97</td>\n",
       "      <td>8479326318.0</td>\n",
       "      <td>19/02/20 13:58:23</td>\n",
       "      <td>muratserter okay sure lonely person hon</td>\n",
       "      <td>65.0</td>\n",
       "    </tr>\n",
       "    <tr>\n",
       "      <th>2026</th>\n",
       "      <td>dreamybeamy</td>\n",
       "      <td>11059719526.0</td>\n",
       "      <td>19/02/20 14:02:21</td>\n",
       "      <td></td>\n",
       "      <td>38.0</td>\n",
       "    </tr>\n",
       "    <tr>\n",
       "      <th>2027</th>\n",
       "      <td>roberttheotherweasley</td>\n",
       "      <td>421167152.0</td>\n",
       "      <td>19/02/20 14:24:36</td>\n",
       "      <td>toxiiiic douchecanoe</td>\n",
       "      <td>20.0</td>\n",
       "    </tr>\n",
       "  </tbody>\n",
       "</table>\n",
       "<p>2028 rows × 5 columns</p>\n",
       "</div>"
      ],
      "text/plain": [
       "                       Name     Profile ID               Date  \\\n",
       "0              scotty2jatty    398274122.0  22/04/24 05:27:52   \n",
       "1          angelasanders975  65963290409.0  22/04/24 17:43:49   \n",
       "2             myleslewis_24  11687291106.0  22/04/24 17:49:54   \n",
       "3       miladheydarpour1369   7529960718.0  22/04/24 18:44:02   \n",
       "4       matthew_williams224  25240207448.0  22/04/24 18:53:42   \n",
       "...                     ...            ...                ...   \n",
       "2023              moespoe14   4984522145.0  19/02/20 12:49:27   \n",
       "2024              moespoe14   4984522145.0  19/02/20 12:50:09   \n",
       "2025        splashelegant97   8479326318.0  19/02/20 13:58:23   \n",
       "2026            dreamybeamy  11059719526.0  19/02/20 14:02:21   \n",
       "2027  roberttheotherweasley    421167152.0  19/02/20 14:24:36   \n",
       "\n",
       "                                      Comment  Comment_Length  \n",
       "0                       better jakepaul dirty            34.0  \n",
       "1                     thats soooooooooo right            24.0  \n",
       "2                              bro want shirt            21.0  \n",
       "3                                                         4.0  \n",
       "4        michaelgalt bro needs beat jakes ass            60.0  \n",
       "...                                       ...             ...  \n",
       "2023              she smiling carnivore plant            43.0  \n",
       "2024                     lifewithangela where            24.0  \n",
       "2025  muratserter okay sure lonely person hon            65.0  \n",
       "2026                                                     38.0  \n",
       "2027                     toxiiiic douchecanoe            20.0  \n",
       "\n",
       "[2028 rows x 5 columns]"
      ]
     },
     "execution_count": 17,
     "metadata": {},
     "output_type": "execute_result"
    }
   ],
   "source": [
    "df"
   ]
  },
  {
   "cell_type": "code",
   "execution_count": 18,
   "id": "c0e5dcd0-9b5b-4ecc-b8ab-00765ff1aa32",
   "metadata": {},
   "outputs": [
    {
     "data": {
      "text/plain": [
       "0                                 better jakepaul dirty\n",
       "1                               thats soooooooooo right\n",
       "2                                        bro want shirt\n",
       "3                                                      \n",
       "4                  michaelgalt bro needs beat jakes ass\n",
       "5                                                      \n",
       "6                                              mike tko\n",
       "7                                        t shirt though\n",
       "8              yeah boy tysons gonna get shit done goat\n",
       "9                                       please win mike\n",
       "10                                         want t shirt\n",
       "11                                           love shirt\n",
       "12                                                     \n",
       "13                                                     \n",
       "14                            jakepaul cant wait see it\n",
       "15    brotha michael heck inspiration now everybody ...\n",
       "16                     httpscornynanoscaleswirutyreplco\n",
       "17       jakepaul money plan get punched mouth millions\n",
       "18                            finish him fatality style\n",
       "19                                                   it\n",
       "Name: Comment, dtype: object"
      ]
     },
     "execution_count": 18,
     "metadata": {},
     "output_type": "execute_result"
    }
   ],
   "source": [
    "df['Comment'].head(n=20)"
   ]
  },
  {
   "cell_type": "code",
   "execution_count": 19,
   "id": "2ea6292d-5986-4de7-a38a-4fe57888dd4a",
   "metadata": {},
   "outputs": [],
   "source": [
    "#Dropping the rows which are empty now\n",
    "df = df[df['Comment'].str.strip().astype(bool)]\n",
    "\n",
    "# Reset index after dropping rows\n",
    "df.reset_index(drop=True, inplace=True)"
   ]
  },
  {
   "cell_type": "code",
   "execution_count": 20,
   "id": "d0e3cf4d-b9da-4f4d-a812-d2f2fcab7e41",
   "metadata": {},
   "outputs": [
    {
     "data": {
      "text/plain": [
       "0                                 better jakepaul dirty\n",
       "1                               thats soooooooooo right\n",
       "2                                        bro want shirt\n",
       "3                  michaelgalt bro needs beat jakes ass\n",
       "4                                              mike tko\n",
       "5                                        t shirt though\n",
       "6              yeah boy tysons gonna get shit done goat\n",
       "7                                       please win mike\n",
       "8                                          want t shirt\n",
       "9                                            love shirt\n",
       "10                            jakepaul cant wait see it\n",
       "11    brotha michael heck inspiration now everybody ...\n",
       "12                     httpscornynanoscaleswirutyreplco\n",
       "13       jakepaul money plan get punched mouth millions\n",
       "14                            finish him fatality style\n",
       "15                                                   it\n",
       "16                                          whens fight\n",
       "17                                           plan dream\n",
       "18    miketysoncollection shirt site exactly say shi...\n",
       "19                                   jakepaul hell make\n",
       "Name: Comment, dtype: object"
      ]
     },
     "execution_count": 20,
     "metadata": {},
     "output_type": "execute_result"
    }
   ],
   "source": [
    "df['Comment'].head(n=20)"
   ]
  },
  {
   "cell_type": "code",
   "execution_count": 21,
   "id": "45d6f08d-5780-4631-af2f-65cd2a3a1baa",
   "metadata": {},
   "outputs": [
    {
     "data": {
      "text/plain": [
       "(1623, 5)"
      ]
     },
     "execution_count": 21,
     "metadata": {},
     "output_type": "execute_result"
    }
   ],
   "source": [
    "df.shape"
   ]
  },
  {
   "cell_type": "code",
   "execution_count": 25,
   "id": "67af3550-3c8b-4696-8abb-ff0c1f7ebc03",
   "metadata": {},
   "outputs": [],
   "source": [
    "df.to_csv('C:/Users/durga/Desktop/SPU/DS 600/PROJECT/FINAL/cleaned_data.csv', index=False)"
   ]
  },
  {
   "cell_type": "code",
   "execution_count": null,
   "id": "21fc6418-6f36-42ce-a082-e9f1c277e857",
   "metadata": {},
   "outputs": [],
   "source": []
  }
 ],
 "metadata": {
  "kernelspec": {
   "display_name": "Python 3 (ipykernel)",
   "language": "python",
   "name": "python3"
  },
  "language_info": {
   "codemirror_mode": {
    "name": "ipython",
    "version": 3
   },
   "file_extension": ".py",
   "mimetype": "text/x-python",
   "name": "python",
   "nbconvert_exporter": "python",
   "pygments_lexer": "ipython3",
   "version": "3.11.7"
  }
 },
 "nbformat": 4,
 "nbformat_minor": 5
}
