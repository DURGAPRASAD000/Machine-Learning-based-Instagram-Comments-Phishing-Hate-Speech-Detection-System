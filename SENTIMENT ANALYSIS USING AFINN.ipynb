{
 "cells": [
  {
   "cell_type": "markdown",
   "id": "d6f43120-e625-4a92-b449-0a581b8f5523",
   "metadata": {},
   "source": [
    "SENTIMENT ANALYSIS"
   ]
  },
  {
   "cell_type": "code",
   "execution_count": 1,
   "id": "280e0fbf-35a8-4945-8e04-87a13672baca",
   "metadata": {},
   "outputs": [],
   "source": [
    "import pandas as pd\n"
   ]
  },
  {
   "cell_type": "code",
   "execution_count": 2,
   "id": "9214f52c-707c-4773-abb6-f4e1287da335",
   "metadata": {},
   "outputs": [],
   "source": [
    "df = pd.read_csv(\"C:/Users/durga/Desktop/SPU/DS 600/PROJECT/FINAL/cleaned_data.csv\")"
   ]
  },
  {
   "cell_type": "code",
   "execution_count": 3,
   "id": "4e905a54-2931-4621-9445-c092564fbabc",
   "metadata": {
    "scrolled": true
   },
   "outputs": [
    {
     "data": {
      "text/html": [
       "<div>\n",
       "<style scoped>\n",
       "    .dataframe tbody tr th:only-of-type {\n",
       "        vertical-align: middle;\n",
       "    }\n",
       "\n",
       "    .dataframe tbody tr th {\n",
       "        vertical-align: top;\n",
       "    }\n",
       "\n",
       "    .dataframe thead th {\n",
       "        text-align: right;\n",
       "    }\n",
       "</style>\n",
       "<table border=\"1\" class=\"dataframe\">\n",
       "  <thead>\n",
       "    <tr style=\"text-align: right;\">\n",
       "      <th></th>\n",
       "      <th>Name</th>\n",
       "      <th>Profile ID</th>\n",
       "      <th>Date</th>\n",
       "      <th>Comment</th>\n",
       "      <th>Comment_Length</th>\n",
       "    </tr>\n",
       "  </thead>\n",
       "  <tbody>\n",
       "    <tr>\n",
       "      <th>0</th>\n",
       "      <td>scotty2jatty</td>\n",
       "      <td>3.982741e+08</td>\n",
       "      <td>22/04/24 05:27:52</td>\n",
       "      <td>better jakepaul dirty</td>\n",
       "      <td>34.0</td>\n",
       "    </tr>\n",
       "    <tr>\n",
       "      <th>1</th>\n",
       "      <td>angelasanders975</td>\n",
       "      <td>6.596329e+10</td>\n",
       "      <td>22/04/24 17:43:49</td>\n",
       "      <td>thats soooooooooo right</td>\n",
       "      <td>24.0</td>\n",
       "    </tr>\n",
       "    <tr>\n",
       "      <th>2</th>\n",
       "      <td>myleslewis_24</td>\n",
       "      <td>1.168729e+10</td>\n",
       "      <td>22/04/24 17:49:54</td>\n",
       "      <td>bro want shirt</td>\n",
       "      <td>21.0</td>\n",
       "    </tr>\n",
       "    <tr>\n",
       "      <th>3</th>\n",
       "      <td>matthew_williams224</td>\n",
       "      <td>2.524021e+10</td>\n",
       "      <td>22/04/24 18:53:42</td>\n",
       "      <td>michaelgalt bro needs beat jakes ass</td>\n",
       "      <td>60.0</td>\n",
       "    </tr>\n",
       "    <tr>\n",
       "      <th>4</th>\n",
       "      <td>vremyatherapper</td>\n",
       "      <td>3.178600e+09</td>\n",
       "      <td>22/04/24 19:21:58</td>\n",
       "      <td>mike tko</td>\n",
       "      <td>28.0</td>\n",
       "    </tr>\n",
       "  </tbody>\n",
       "</table>\n",
       "</div>"
      ],
      "text/plain": [
       "                  Name    Profile ID               Date  \\\n",
       "0         scotty2jatty  3.982741e+08  22/04/24 05:27:52   \n",
       "1     angelasanders975  6.596329e+10  22/04/24 17:43:49   \n",
       "2        myleslewis_24  1.168729e+10  22/04/24 17:49:54   \n",
       "3  matthew_williams224  2.524021e+10  22/04/24 18:53:42   \n",
       "4      vremyatherapper  3.178600e+09  22/04/24 19:21:58   \n",
       "\n",
       "                                Comment  Comment_Length  \n",
       "0                 better jakepaul dirty            34.0  \n",
       "1               thats soooooooooo right            24.0  \n",
       "2                        bro want shirt            21.0  \n",
       "3  michaelgalt bro needs beat jakes ass            60.0  \n",
       "4                              mike tko            28.0  "
      ]
     },
     "execution_count": 3,
     "metadata": {},
     "output_type": "execute_result"
    }
   ],
   "source": [
    "df.head()"
   ]
  },
  {
   "cell_type": "code",
   "execution_count": 4,
   "id": "ec237b8e-412a-4f71-8fc9-31e4715278eb",
   "metadata": {},
   "outputs": [],
   "source": [
    "from afinn import Afinn"
   ]
  },
  {
   "cell_type": "code",
   "execution_count": 5,
   "id": "9e5e6aab-9d8f-4ef1-8b40-ee636e35c1c3",
   "metadata": {},
   "outputs": [],
   "source": [
    "affin = Afinn()"
   ]
  },
  {
   "cell_type": "code",
   "execution_count": 8,
   "id": "c5c858c7-05ee-43dc-9e57-14a7ad0f1642",
   "metadata": {},
   "outputs": [],
   "source": [
    "scores = [affin.score(article) for article in df['Comment']]\n",
    "sentiment = ['positive' if score > 0\n",
    "                          else 'negative' if score < 0\n",
    "                              else 'neutral'\n",
    "                                  for score in scores]"
   ]
  },
  {
   "cell_type": "code",
   "execution_count": 9,
   "id": "da0e3e5a-8c0a-4ee8-adb9-a5b300605891",
   "metadata": {},
   "outputs": [
    {
     "name": "stdout",
     "output_type": "stream",
     "text": [
      "                                        topic  scores sentiments\n",
      "0                       better jakepaul dirty     0.0    neutral\n",
      "1                     thats soooooooooo right     0.0    neutral\n",
      "2                              bro want shirt     1.0   positive\n",
      "3        michaelgalt bro needs beat jakes ass    -4.0   negative\n",
      "4                                    mike tko     0.0    neutral\n",
      "...                                       ...     ...        ...\n",
      "1618                                 pretty u     1.0   positive\n",
      "1619              she smiling carnivore plant     2.0   positive\n",
      "1620                     lifewithangela where     0.0    neutral\n",
      "1621  muratserter okay sure lonely person hon    -2.0   negative\n",
      "1622                     toxiiiic douchecanoe     0.0    neutral\n",
      "\n",
      "[1623 rows x 3 columns]\n"
     ]
    }
   ],
   "source": [
    "data = pd.DataFrame()\n",
    "data['topic'] =  df['Comment']\n",
    "data['scores'] = scores\n",
    "data['sentiments'] = sentiment\n",
    "print(data)"
   ]
  },
  {
   "cell_type": "code",
   "execution_count": 10,
   "id": "82c35232-2475-448f-8f36-141df093df75",
   "metadata": {},
   "outputs": [
    {
     "data": {
      "text/html": [
       "<div>\n",
       "<style scoped>\n",
       "    .dataframe tbody tr th:only-of-type {\n",
       "        vertical-align: middle;\n",
       "    }\n",
       "\n",
       "    .dataframe tbody tr th {\n",
       "        vertical-align: top;\n",
       "    }\n",
       "\n",
       "    .dataframe thead th {\n",
       "        text-align: right;\n",
       "    }\n",
       "</style>\n",
       "<table border=\"1\" class=\"dataframe\">\n",
       "  <thead>\n",
       "    <tr style=\"text-align: right;\">\n",
       "      <th></th>\n",
       "      <th>topic</th>\n",
       "      <th>scores</th>\n",
       "      <th>sentiments</th>\n",
       "    </tr>\n",
       "  </thead>\n",
       "  <tbody>\n",
       "    <tr>\n",
       "      <th>0</th>\n",
       "      <td>better jakepaul dirty</td>\n",
       "      <td>0.0</td>\n",
       "      <td>neutral</td>\n",
       "    </tr>\n",
       "    <tr>\n",
       "      <th>1</th>\n",
       "      <td>thats soooooooooo right</td>\n",
       "      <td>0.0</td>\n",
       "      <td>neutral</td>\n",
       "    </tr>\n",
       "    <tr>\n",
       "      <th>2</th>\n",
       "      <td>bro want shirt</td>\n",
       "      <td>1.0</td>\n",
       "      <td>positive</td>\n",
       "    </tr>\n",
       "    <tr>\n",
       "      <th>3</th>\n",
       "      <td>michaelgalt bro needs beat jakes ass</td>\n",
       "      <td>-4.0</td>\n",
       "      <td>negative</td>\n",
       "    </tr>\n",
       "    <tr>\n",
       "      <th>4</th>\n",
       "      <td>mike tko</td>\n",
       "      <td>0.0</td>\n",
       "      <td>neutral</td>\n",
       "    </tr>\n",
       "  </tbody>\n",
       "</table>\n",
       "</div>"
      ],
      "text/plain": [
       "                                  topic  scores sentiments\n",
       "0                 better jakepaul dirty     0.0    neutral\n",
       "1               thats soooooooooo right     0.0    neutral\n",
       "2                        bro want shirt     1.0   positive\n",
       "3  michaelgalt bro needs beat jakes ass    -4.0   negative\n",
       "4                              mike tko     0.0    neutral"
      ]
     },
     "execution_count": 10,
     "metadata": {},
     "output_type": "execute_result"
    }
   ],
   "source": [
    "data.head()"
   ]
  },
  {
   "cell_type": "code",
   "execution_count": 11,
   "id": "3a18c3d2-65fc-4806-98a4-6acd52af60fe",
   "metadata": {},
   "outputs": [
    {
     "data": {
      "text/html": [
       "<div>\n",
       "<style scoped>\n",
       "    .dataframe tbody tr th:only-of-type {\n",
       "        vertical-align: middle;\n",
       "    }\n",
       "\n",
       "    .dataframe tbody tr th {\n",
       "        vertical-align: top;\n",
       "    }\n",
       "\n",
       "    .dataframe thead th {\n",
       "        text-align: right;\n",
       "    }\n",
       "</style>\n",
       "<table border=\"1\" class=\"dataframe\">\n",
       "  <thead>\n",
       "    <tr style=\"text-align: right;\">\n",
       "      <th></th>\n",
       "      <th>topic</th>\n",
       "      <th>scores</th>\n",
       "      <th>sentiments</th>\n",
       "    </tr>\n",
       "  </thead>\n",
       "  <tbody>\n",
       "    <tr>\n",
       "      <th>0</th>\n",
       "      <td>better jakepaul dirty</td>\n",
       "      <td>0.0</td>\n",
       "      <td>neutral</td>\n",
       "    </tr>\n",
       "    <tr>\n",
       "      <th>1</th>\n",
       "      <td>thats soooooooooo right</td>\n",
       "      <td>0.0</td>\n",
       "      <td>neutral</td>\n",
       "    </tr>\n",
       "    <tr>\n",
       "      <th>2</th>\n",
       "      <td>bro want shirt</td>\n",
       "      <td>1.0</td>\n",
       "      <td>positive</td>\n",
       "    </tr>\n",
       "    <tr>\n",
       "      <th>3</th>\n",
       "      <td>michaelgalt bro needs beat jakes ass</td>\n",
       "      <td>-4.0</td>\n",
       "      <td>negative</td>\n",
       "    </tr>\n",
       "    <tr>\n",
       "      <th>4</th>\n",
       "      <td>mike tko</td>\n",
       "      <td>0.0</td>\n",
       "      <td>neutral</td>\n",
       "    </tr>\n",
       "    <tr>\n",
       "      <th>5</th>\n",
       "      <td>t shirt though</td>\n",
       "      <td>0.0</td>\n",
       "      <td>neutral</td>\n",
       "    </tr>\n",
       "    <tr>\n",
       "      <th>6</th>\n",
       "      <td>yeah boy tysons gonna get shit done goat</td>\n",
       "      <td>-3.0</td>\n",
       "      <td>negative</td>\n",
       "    </tr>\n",
       "    <tr>\n",
       "      <th>7</th>\n",
       "      <td>please win mike</td>\n",
       "      <td>5.0</td>\n",
       "      <td>positive</td>\n",
       "    </tr>\n",
       "    <tr>\n",
       "      <th>8</th>\n",
       "      <td>want t shirt</td>\n",
       "      <td>1.0</td>\n",
       "      <td>positive</td>\n",
       "    </tr>\n",
       "    <tr>\n",
       "      <th>9</th>\n",
       "      <td>love shirt</td>\n",
       "      <td>3.0</td>\n",
       "      <td>positive</td>\n",
       "    </tr>\n",
       "    <tr>\n",
       "      <th>10</th>\n",
       "      <td>jakepaul cant wait see it</td>\n",
       "      <td>0.0</td>\n",
       "      <td>neutral</td>\n",
       "    </tr>\n",
       "    <tr>\n",
       "      <th>11</th>\n",
       "      <td>brotha michael heck inspiration now everybody ...</td>\n",
       "      <td>6.0</td>\n",
       "      <td>positive</td>\n",
       "    </tr>\n",
       "    <tr>\n",
       "      <th>12</th>\n",
       "      <td>httpscornynanoscaleswirutyreplco</td>\n",
       "      <td>0.0</td>\n",
       "      <td>neutral</td>\n",
       "    </tr>\n",
       "    <tr>\n",
       "      <th>13</th>\n",
       "      <td>jakepaul money plan get punched mouth millions</td>\n",
       "      <td>0.0</td>\n",
       "      <td>neutral</td>\n",
       "    </tr>\n",
       "    <tr>\n",
       "      <th>14</th>\n",
       "      <td>finish him fatality style</td>\n",
       "      <td>-3.0</td>\n",
       "      <td>negative</td>\n",
       "    </tr>\n",
       "    <tr>\n",
       "      <th>15</th>\n",
       "      <td>it</td>\n",
       "      <td>0.0</td>\n",
       "      <td>neutral</td>\n",
       "    </tr>\n",
       "    <tr>\n",
       "      <th>16</th>\n",
       "      <td>whens fight</td>\n",
       "      <td>-1.0</td>\n",
       "      <td>negative</td>\n",
       "    </tr>\n",
       "    <tr>\n",
       "      <th>17</th>\n",
       "      <td>plan dream</td>\n",
       "      <td>1.0</td>\n",
       "      <td>positive</td>\n",
       "    </tr>\n",
       "    <tr>\n",
       "      <th>18</th>\n",
       "      <td>miketysoncollection shirt site exactly say shi...</td>\n",
       "      <td>0.0</td>\n",
       "      <td>neutral</td>\n",
       "    </tr>\n",
       "    <tr>\n",
       "      <th>19</th>\n",
       "      <td>jakepaul hell make</td>\n",
       "      <td>-4.0</td>\n",
       "      <td>negative</td>\n",
       "    </tr>\n",
       "    <tr>\n",
       "      <th>20</th>\n",
       "      <td>legend forever jake puss</td>\n",
       "      <td>0.0</td>\n",
       "      <td>neutral</td>\n",
       "    </tr>\n",
       "    <tr>\n",
       "      <th>21</th>\n",
       "      <td>shirt says iron mike</td>\n",
       "      <td>0.0</td>\n",
       "      <td>neutral</td>\n",
       "    </tr>\n",
       "    <tr>\n",
       "      <th>22</th>\n",
       "      <td>ya thizzang cuzy</td>\n",
       "      <td>0.0</td>\n",
       "      <td>neutral</td>\n",
       "    </tr>\n",
       "    <tr>\n",
       "      <th>23</th>\n",
       "      <td>need jersey</td>\n",
       "      <td>0.0</td>\n",
       "      <td>neutral</td>\n",
       "    </tr>\n",
       "    <tr>\n",
       "      <th>24</th>\n",
       "      <td>httpxced</td>\n",
       "      <td>0.0</td>\n",
       "      <td>neutral</td>\n",
       "    </tr>\n",
       "    <tr>\n",
       "      <th>25</th>\n",
       "      <td>jakepaul exactly bruh</td>\n",
       "      <td>0.0</td>\n",
       "      <td>neutral</td>\n",
       "    </tr>\n",
       "    <tr>\n",
       "      <th>26</th>\n",
       "      <td>jakepaul genius man without plan big failure s...</td>\n",
       "      <td>-2.0</td>\n",
       "      <td>negative</td>\n",
       "    </tr>\n",
       "    <tr>\n",
       "      <th>27</th>\n",
       "      <td>dhruvmittal still reminder fighting mike tyson...</td>\n",
       "      <td>-7.0</td>\n",
       "      <td>negative</td>\n",
       "    </tr>\n",
       "    <tr>\n",
       "      <th>28</th>\n",
       "      <td>pussy jk</td>\n",
       "      <td>0.0</td>\n",
       "      <td>neutral</td>\n",
       "    </tr>\n",
       "    <tr>\n",
       "      <th>29</th>\n",
       "      <td>yo mike catskill house melissa god bless</td>\n",
       "      <td>3.0</td>\n",
       "      <td>positive</td>\n",
       "    </tr>\n",
       "  </tbody>\n",
       "</table>\n",
       "</div>"
      ],
      "text/plain": [
       "                                                topic  scores sentiments\n",
       "0                               better jakepaul dirty     0.0    neutral\n",
       "1                             thats soooooooooo right     0.0    neutral\n",
       "2                                      bro want shirt     1.0   positive\n",
       "3                michaelgalt bro needs beat jakes ass    -4.0   negative\n",
       "4                                            mike tko     0.0    neutral\n",
       "5                                      t shirt though     0.0    neutral\n",
       "6            yeah boy tysons gonna get shit done goat    -3.0   negative\n",
       "7                                     please win mike     5.0   positive\n",
       "8                                        want t shirt     1.0   positive\n",
       "9                                          love shirt     3.0   positive\n",
       "10                          jakepaul cant wait see it     0.0    neutral\n",
       "11  brotha michael heck inspiration now everybody ...     6.0   positive\n",
       "12                   httpscornynanoscaleswirutyreplco     0.0    neutral\n",
       "13     jakepaul money plan get punched mouth millions     0.0    neutral\n",
       "14                          finish him fatality style    -3.0   negative\n",
       "15                                                 it     0.0    neutral\n",
       "16                                        whens fight    -1.0   negative\n",
       "17                                         plan dream     1.0   positive\n",
       "18  miketysoncollection shirt site exactly say shi...     0.0    neutral\n",
       "19                                 jakepaul hell make    -4.0   negative\n",
       "20                           legend forever jake puss     0.0    neutral\n",
       "21                               shirt says iron mike     0.0    neutral\n",
       "22                                   ya thizzang cuzy     0.0    neutral\n",
       "23                                        need jersey     0.0    neutral\n",
       "24                                           httpxced     0.0    neutral\n",
       "25                              jakepaul exactly bruh     0.0    neutral\n",
       "26  jakepaul genius man without plan big failure s...    -2.0   negative\n",
       "27  dhruvmittal still reminder fighting mike tyson...    -7.0   negative\n",
       "28                                           pussy jk     0.0    neutral\n",
       "29           yo mike catskill house melissa god bless     3.0   positive"
      ]
     },
     "execution_count": 11,
     "metadata": {},
     "output_type": "execute_result"
    }
   ],
   "source": [
    "data.head(n=30)"
   ]
  },
  {
   "cell_type": "code",
   "execution_count": 13,
   "id": "09b1591d-f8cd-4eb3-8b3b-38587eedbb9e",
   "metadata": {},
   "outputs": [
    {
     "data": {
      "image/png": "[encoded data removed]",
      "text/plain": [
       "<Figure size 640x480 with 1 Axes>"
      ]
     },
     "metadata": {},
     "output_type": "display_data"
    }
   ],
   "source": [
    "import matplotlib.pyplot as plt\n",
    "\n",
    "# Count the occurrences of each sentiment\n",
    "sentiment_counts = data['sentiments'].value_counts()\n",
    "\n",
    "# Plot the bar chart\n",
    "plt.bar(sentiment_counts.index, sentiment_counts.values, color=['green', 'red', 'gray'])\n",
    "plt.xlabel('sentiments')\n",
    "plt.ylabel('Count')\n",
    "plt.title('Sentiment Analysis using AFINN')\n",
    "plt.show()"
   ]
  },
  {
   "cell_type": "markdown",
   "id": "f47364b1-ff2c-4656-bf4e-1dc062a7fcf4",
   "metadata": {},
   "source": [
    "MODEL IMPLEMENTATION - LOGISTIC REGRESSION"
   ]
  },
  {
   "cell_type": "code",
   "execution_count": 25,
   "id": "589f69e0-3c46-4c5f-acd4-fe5433d607d1",
   "metadata": {},
   "outputs": [],
   "source": [
    "from sklearn.feature_extraction.text import HashingVectorizer\n",
    "from sklearn.model_selection import train_test_split\n",
    "from sklearn.linear_model import LogisticRegression\n",
    "from sklearn.metrics import classification_report\n",
    "import pandas as pd\n",
    "\n",
    "# Assuming df is your DataFrame containing the data\n",
    "comments = data['topic']\n",
    "sentiments = data['sentiments']\n",
    "\n",
    "# Feature Hashing\n",
    "vectorizer = HashingVectorizer(n_features=1000)  # Adjust n_features as needed\n",
    "X = vectorizer.fit_transform(comments)"
   ]
  },
  {
   "cell_type": "code",
   "execution_count": 26,
   "id": "c013079c-cab4-487b-9e16-eb30cded8aee",
   "metadata": {},
   "outputs": [],
   "source": [
    "X_train, X_test, y_train, y_test = train_test_split(X, sentiments, test_size=0.2, random_state=42)"
   ]
  },
  {
   "cell_type": "code",
   "execution_count": 27,
   "id": "aa711453-08de-4517-b343-4866bdd910c8",
   "metadata": {},
   "outputs": [
    {
     "data": {
      "text/html": [
       "<style>#sk-container-id-1 {color: black;background-color: white;}#sk-container-id-1 pre{padding: 0;}#sk-container-id-1 div.sk-toggleable {background-color: white;}#sk-container-id-1 label.sk-toggleable__label {cursor: pointer;display: block;width: 100%;margin-bottom: 0;padding: 0.3em;box-sizing: border-box;text-align: center;}#sk-container-id-1 label.sk-toggleable__label-arrow:before {content: \"▸\";float: left;margin-right: 0.25em;color: #696969;}#sk-container-id-1 label.sk-toggleable__label-arrow:hover:before {color: black;}#sk-container-id-1 div.sk-estimator:hover label.sk-toggleable__label-arrow:before {color: black;}#sk-container-id-1 div.sk-toggleable__content {max-height: 0;max-width: 0;overflow: hidden;text-align: left;background-color: #f0f8ff;}#sk-container-id-1 div.sk-toggleable__content pre {margin: 0.2em;color: black;border-radius: 0.25em;background-color: #f0f8ff;}#sk-container-id-1 input.sk-toggleable__control:checked~div.sk-toggleable__content {max-height: 200px;max-width: 100%;overflow: auto;}#sk-container-id-1 input.sk-toggleable__control:checked~label.sk-toggleable__label-arrow:before {content: \"▾\";}#sk-container-id-1 div.sk-estimator input.sk-toggleable__control:checked~label.sk-toggleable__label {background-color: #d4ebff;}#sk-container-id-1 div.sk-label input.sk-toggleable__control:checked~label.sk-toggleable__label {background-color: #d4ebff;}#sk-container-id-1 input.sk-hidden--visually {border: 0;clip: rect(1px 1px 1px 1px);clip: rect(1px, 1px, 1px, 1px);height: 1px;margin: -1px;overflow: hidden;padding: 0;position: absolute;width: 1px;}#sk-container-id-1 div.sk-estimator {font-family: monospace;background-color: #f0f8ff;border: 1px dotted black;border-radius: 0.25em;box-sizing: border-box;margin-bottom: 0.5em;}#sk-container-id-1 div.sk-estimator:hover {background-color: #d4ebff;}#sk-container-id-1 div.sk-parallel-item::after {content: \"\";width: 100%;border-bottom: 1px solid gray;flex-grow: 1;}#sk-container-id-1 div.sk-label:hover label.sk-toggleable__label {background-color: #d4ebff;}#sk-container-id-1 div.sk-serial::before {content: \"\";position: absolute;border-left: 1px solid gray;box-sizing: border-box;top: 0;bottom: 0;left: 50%;z-index: 0;}#sk-container-id-1 div.sk-serial {display: flex;flex-direction: column;align-items: center;background-color: white;padding-right: 0.2em;padding-left: 0.2em;position: relative;}#sk-container-id-1 div.sk-item {position: relative;z-index: 1;}#sk-container-id-1 div.sk-parallel {display: flex;align-items: stretch;justify-content: center;background-color: white;position: relative;}#sk-container-id-1 div.sk-item::before, #sk-container-id-1 div.sk-parallel-item::before {content: \"\";position: absolute;border-left: 1px solid gray;box-sizing: border-box;top: 0;bottom: 0;left: 50%;z-index: -1;}#sk-container-id-1 div.sk-parallel-item {display: flex;flex-direction: column;z-index: 1;position: relative;background-color: white;}#sk-container-id-1 div.sk-parallel-item:first-child::after {align-self: flex-end;width: 50%;}#sk-container-id-1 div.sk-parallel-item:last-child::after {align-self: flex-start;width: 50%;}#sk-container-id-1 div.sk-parallel-item:only-child::after {width: 0;}#sk-container-id-1 div.sk-dashed-wrapped {border: 1px dashed gray;margin: 0 0.4em 0.5em 0.4em;box-sizing: border-box;padding-bottom: 0.4em;background-color: white;}#sk-container-id-1 div.sk-label label {font-family: monospace;font-weight: bold;display: inline-block;line-height: 1.2em;}#sk-container-id-1 div.sk-label-container {text-align: center;}#sk-container-id-1 div.sk-container {/* jupyter's `normalize.less` sets `[hidden] { display: none; }` but bootstrap.min.css set `[hidden] { display: none !important; }` so we also need the `!important` here to be able to override the default hidden behavior on the sphinx rendered scikit-learn.org. See: https://github.com/scikit-learn/scikit-learn/issues/21755 */display: inline-block !important;position: relative;}#sk-container-id-1 div.sk-text-repr-fallback {display: none;}</style><div id=\"sk-container-id-1\" class=\"sk-top-container\"><div class=\"sk-text-repr-fallback\"><pre>LogisticRegression(max_iter=1000)</pre><b>In a Jupyter environment, please rerun this cell to show the HTML representation or trust the notebook. <br />On GitHub, the HTML representation is unable to render, please try loading this page with nbviewer.org.</b></div><div class=\"sk-container\" hidden><div class=\"sk-item\"><div class=\"sk-estimator sk-toggleable\"><input class=\"sk-toggleable__control sk-hidden--visually\" id=\"sk-estimator-id-1\" type=\"checkbox\" checked><label for=\"sk-estimator-id-1\" class=\"sk-toggleable__label sk-toggleable__label-arrow\">LogisticRegression</label><div class=\"sk-toggleable__content\"><pre>LogisticRegression(max_iter=1000)</pre></div></div></div></div></div>"
      ],
      "text/plain": [
       "LogisticRegression(max_iter=1000)"
      ]
     },
     "execution_count": 27,
     "metadata": {},
     "output_type": "execute_result"
    }
   ],
   "source": [
    "model = LogisticRegression(max_iter=1000)\n",
    "model.fit(X_train, y_train)\n"
   ]
  },
  {
   "cell_type": "code",
   "execution_count": 34,
   "id": "819e87a7-6585-491c-b39b-90626d9174f0",
   "metadata": {},
   "outputs": [
    {
     "name": "stdout",
     "output_type": "stream",
     "text": [
      "Logistic Regression Classification Report:\n",
      "              precision    recall  f1-score   support\n",
      "\n",
      "    negative       0.66      0.41      0.51       100\n",
      "     neutral       0.60      0.84      0.70       136\n",
      "    positive       0.60      0.48      0.53        89\n",
      "\n",
      "    accuracy                           0.61       325\n",
      "   macro avg       0.62      0.58      0.58       325\n",
      "weighted avg       0.62      0.61      0.59       325\n",
      "\n"
     ]
    }
   ],
   "source": [
    "y_pred = model.predict(X_test)\n",
    "print(\"Logistic Regression Classification Report:\")\n",
    "print(classification_report(y_test, y_pred))"
   ]
  },
  {
   "cell_type": "markdown",
   "id": "60d6501b-52ef-463d-8dda-4a0412c7dc90",
   "metadata": {},
   "source": [
    "MODEL - SUPPORT VECTOR MACHINE"
   ]
  },
  {
   "cell_type": "code",
   "execution_count": 29,
   "id": "c7a9211d-e2e9-49df-832a-aa9d7adacbef",
   "metadata": {},
   "outputs": [
    {
     "name": "stdout",
     "output_type": "stream",
     "text": [
      "SVM Classification Report:\n",
      "              precision    recall  f1-score   support\n",
      "\n",
      "    negative       0.61      0.46      0.52       100\n",
      "     neutral       0.62      0.82      0.71       136\n",
      "    positive       0.61      0.48      0.54        89\n",
      "\n",
      "    accuracy                           0.62       325\n",
      "   macro avg       0.61      0.59      0.59       325\n",
      "weighted avg       0.61      0.62      0.60       325\n",
      "\n"
     ]
    }
   ],
   "source": [
    "from sklearn.svm import SVC\n",
    "\n",
    "# Model Training\n",
    "svm_model = SVC(kernel='linear')\n",
    "svm_model.fit(X_train, y_train)\n",
    "\n",
    "# Model Evaluation\n",
    "svm_y_pred = svm_model.predict(X_test)\n",
    "print(\"SVM Classification Report:\")\n",
    "print(classification_report(y_test, svm_y_pred))"
   ]
  },
  {
   "cell_type": "markdown",
   "id": "12a95e67-8d27-4231-b53a-a55cb231f367",
   "metadata": {},
   "source": [
    "MODEL - RANDOM FOREST"
   ]
  },
  {
   "cell_type": "code",
   "execution_count": 30,
   "id": "3e9425b5-4244-454b-9893-769deb90dd90",
   "metadata": {},
   "outputs": [
    {
     "name": "stdout",
     "output_type": "stream",
     "text": [
      "Random Forest Classification Report:\n",
      "              precision    recall  f1-score   support\n",
      "\n",
      "    negative       0.67      0.40      0.50       100\n",
      "     neutral       0.64      0.85      0.73       136\n",
      "    positive       0.60      0.56      0.58        89\n",
      "\n",
      "    accuracy                           0.63       325\n",
      "   macro avg       0.64      0.60      0.60       325\n",
      "weighted avg       0.64      0.63      0.62       325\n",
      "\n"
     ]
    }
   ],
   "source": [
    "from sklearn.ensemble import RandomForestClassifier\n",
    "\n",
    "# Model Training\n",
    "rf_model = RandomForestClassifier(n_estimators=100, random_state=42)\n",
    "rf_model.fit(X_train, y_train)\n",
    "\n",
    "# Model Evaluation\n",
    "rf_y_pred = rf_model.predict(X_test)\n",
    "print(\"Random Forest Classification Report:\")\n",
    "print(classification_report(y_test, rf_y_pred))"
   ]
  },
  {
   "cell_type": "code",
   "execution_count": null,
   "id": "c31df149-fd65-43c6-9de8-a3885309f39e",
   "metadata": {},
   "outputs": [],
   "source": []
  }
 ],
 "metadata": {
  "kernelspec": {
   "display_name": "Python 3 (ipykernel)",
   "language": "python",
   "name": "python3"
  },
  "language_info": {
   "codemirror_mode": {
    "name": "ipython",
    "version": 3
   },
   "file_extension": ".py",
   "mimetype": "text/x-python",
   "name": "python",
   "nbconvert_exporter": "python",
   "pygments_lexer": "ipython3",
   "version": "3.11.7"
  }
 },
 "nbformat": 4,
 "nbformat_minor": 5
}
